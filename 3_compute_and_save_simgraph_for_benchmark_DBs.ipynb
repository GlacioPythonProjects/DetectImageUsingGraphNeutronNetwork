{
 "cells": [
  {
   "cell_type": "markdown",
   "metadata": {},
   "source": [
    "## Attention before running\n",
    "See script 3a_format_dbs.sh to format the databases before running this notebook"
   ]
  },
  {
   "cell_type": "code",
   "execution_count": 1,
   "metadata": {},
   "outputs": [],
   "source": [
    "import os\n",
    "from glob import glob\n",
    "import matplotlib.pyplot as plt\n",
    "from tqdm import tqdm\n",
    "\n",
    "from src.simgraph import calc_simgraph"
   ]
  },
  {
   "cell_type": "code",
   "execution_count": 2,
   "metadata": {},
   "outputs": [],
   "source": [
    "#For some setups its neccessary to allow tensorflow to allocate gpu memory\n",
    "import tensorflow as tf\n",
    "physical_devices = tf.config.experimental.list_physical_devices('GPU')\n",
    "assert len(physical_devices) > 0, \"Not enough GPU hardware devices available\"\n",
    "tf.config.experimental.set_memory_growth(physical_devices[0], True)\n",
    "\n",
    "#disable annoying debugging info from tensorflow \n",
    "tf.compat.v1.logging.set_verbosity(tf.compat.v1.logging.WARN)"
   ]
  },
  {
   "cell_type": "code",
   "execution_count": 3,
   "metadata": {},
   "outputs": [],
   "source": [
    "def save_simgraphs_by_directory(dirin, dirout,\n",
    "                                f_weights, patch_size, overlap,\n",
    "                                filetypes = ['*.jpg','*.jpeg','*.JPG','*.JPEG','*.tif','*.tiff','*.TIF','*.TIFF']):\n",
    "    \n",
    "    #make sure our save directory exists\n",
    "    if not os.path.exists(dirout):\n",
    "        os.makedirs(dirout)\n",
    "    \n",
    "    #find images by filetype in input directory\n",
    "    files = []\n",
    "    for ftype in filetypes:\n",
    "        files.extend(glob(dirin+ftype))\n",
    "        \n",
    "    #iterate over each image, compute similarity graph, and save\n",
    "    for fim in tqdm(files):\n",
    "        I = plt.imread(fim)\n",
    "        if I.shape[2] == 4: \n",
    "            I = I[:,:,0:3]#guess that its RGBa\n",
    "\n",
    "        simg = calc_simgraph(I, #COMPUTE SIMILARITY GRAPH\n",
    "                         f_weights_restore = fweights, patch_size = patch_size, overlap =  overlap,\n",
    "                         quiet = True)\n",
    "\n",
    "        fname = str(os.path.basename(fim)).replace('.','_') #parse and format the image name\n",
    "        fsave = os.path.join(dirout,fname) #save location\n",
    "        simg.save(fsave + '.simg') #save the simgraph to file\n",
    "    "
   ]
  },
  {
   "cell_type": "code",
   "execution_count": 4,
   "metadata": {},
   "outputs": [
    {
     "name": "stderr",
     "output_type": "stream",
     "text": [
      "\r",
      "  0%|          | 0/180 [00:00<?, ?it/s]"
     ]
    },
    {
     "name": "stdout",
     "output_type": "stream",
     "text": [
      "WARNING:tensorflow:From /home/owen/forensic-graph/src/simgraph.py:221: The name tf.reset_default_graph is deprecated. Please use tf.compat.v1.reset_default_graph instead.\n",
      "\n",
      "WARNING:tensorflow:From /home/owen/forensic-graph/src/simgraph.py:223: The name tf.placeholder is deprecated. Please use tf.compat.v1.placeholder instead.\n",
      "\n",
      "WARNING:tensorflow:From /home/owen/forensic-graph/src/mislnet_model.py:92: The name tf.variable_scope is deprecated. Please use tf.compat.v1.variable_scope instead.\n",
      "\n",
      "WARNING:tensorflow:From /home/owen/forensic-graph/src/mislnet_model.py:10: The name tf.get_variable is deprecated. Please use tf.compat.v1.get_variable instead.\n",
      "\n",
      "WARNING:tensorflow:\n",
      "The TensorFlow contrib module will not be included in TensorFlow 2.0.\n",
      "For more information, please see:\n",
      "  * https://github.com/tensorflow/community/blob/master/rfcs/20180907-contrib-sunset.md\n",
      "  * https://github.com/tensorflow/addons\n",
      "  * https://github.com/tensorflow/io (for I/O related ops)\n",
      "If you depend on functionality not listed there, please file an issue.\n",
      "\n",
      "WARNING:tensorflow:From /home/owen/forensic-graph/src/mislnet_model.py:16: batch_normalization (from tensorflow.python.layers.normalization) is deprecated and will be removed in a future version.\n",
      "Instructions for updating:\n",
      "Use keras.layers.BatchNormalization instead.  In particular, `tf.control_dependencies(tf.GraphKeys.UPDATE_OPS)` should not be used (consult the `tf.keras.layers.batch_normalization` documentation).\n",
      "WARNING:tensorflow:From /home/owen/miniconda3/envs/forensicgraph/lib/python3.7/site-packages/tensorflow_core/python/layers/normalization.py:327: Layer.apply (from tensorflow.python.keras.engine.base_layer) is deprecated and will be removed in a future version.\n",
      "Instructions for updating:\n",
      "Please use `layer.__call__` method instead.\n",
      "WARNING:tensorflow:From /home/owen/forensic-graph/src/mislnet_model.py:7: The name tf.nn.max_pool is deprecated. Please use tf.nn.max_pool2d instead.\n",
      "\n",
      "WARNING:tensorflow:From /home/owen/forensic-graph/src/simgraph.py:231: The name tf.train.Saver is deprecated. Please use tf.compat.v1.train.Saver instead.\n",
      "\n",
      "WARNING:tensorflow:From /home/owen/forensic-graph/src/simgraph.py:233: The name tf.Session is deprecated. Please use tf.compat.v1.Session instead.\n",
      "\n"
     ]
    },
    {
     "name": "stderr",
     "output_type": "stream",
     "text": [
      "100%|██████████| 180/180 [00:54<00:00,  3.31it/s]\n",
      "100%|██████████| 183/183 [00:57<00:00,  3.16it/s]\n",
      "100%|██████████| 100/100 [00:59<00:00,  1.68it/s]\n",
      "100%|██████████| 100/100 [00:57<00:00,  1.74it/s]\n",
      "100%|██████████| 220/220 [01:39<00:00,  2.20it/s]\n",
      "100%|██████████| 220/220 [01:40<00:00,  2.20it/s]\n"
     ]
    }
   ],
   "source": [
    "dbtop = './tampering-databases/' #top level of tampering databases\n",
    "#FORGERY DETECTION\n",
    "\n",
    "model_name = 'cam_256'\n",
    "patch_size = 256 #patch size, must match associated weights file\n",
    "overlap = 128 #patch sampling overlap\n",
    "\n",
    "#PARAMETERS FOR 128x128 FORGERY DETECTION\n",
    "#model_name = 'cam_128'\n",
    "#patch_size = 128 #patch size, must match associated weights file\n",
    "#overlap = 64 #patch sampling overlap\n",
    "\n",
    "fweights = f'./models/{model_name}/-30' #path to model CNN weights\n",
    "\n",
    "\n",
    "#Columbia, spliced\n",
    "dirin = os.path.join(dbtop,'4cam_splc/')\n",
    "dirout = f'./simg_saves/{model_name}/{overlap}/4cam_splc/'\n",
    "filetypes = ['*.tif']\n",
    "save_simgraphs_by_directory(dirin, dirout,\n",
    "                            fweights, patch_size, overlap,\n",
    "                            filetypes = filetypes)\n",
    "    \n",
    "#Columbia, authentic\n",
    "dirin = os.path.join(dbtop,'4cam_auth/')\n",
    "dirout = f'./simg_saves/{model_name}/{overlap}/4cam_auth/'\n",
    "filetypes = ['*.tif']\n",
    "save_simgraphs_by_directory(dirin, dirout,\n",
    "                            fweights, patch_size, overlap,\n",
    "                            filetypes = filetypes)\n",
    "\n",
    "#Carvalho, spliced\n",
    "dirin = os.path.join(dbtop,'carvalho_tampered/')\n",
    "dirout = f'./simg_saves/{model_name}/{overlap}/carvalho_tampered/'\n",
    "filetypes = ['*.TIF']\n",
    "save_simgraphs_by_directory(dirin, dirout,\n",
    "                            fweights, patch_size, overlap,\n",
    "                            filetypes = filetypes)\n",
    "\n",
    "#Carvalho, authentic\n",
    "dirin = os.path.join(dbtop,'carvalho_pristine/')\n",
    "dirout = f'./simg_saves/{model_name}/{overlap}/carvalho_pristine/'\n",
    "filetypes = ['*.TIF']\n",
    "save_simgraphs_by_directory(dirin, dirout,\n",
    "                            fweights, patch_size, overlap,\n",
    "                            filetypes = filetypes)\n",
    "\n",
    "#Korus, spliced\n",
    "dirin = os.path.join(dbtop,'korus_tampered/')\n",
    "dirout = f'./simg_saves/{model_name}/{overlap}/korus_tampered/'\n",
    "filetypes = ['*.TIF']\n",
    "save_simgraphs_by_directory(dirin, dirout,\n",
    "                            fweights, patch_size, overlap,\n",
    "                            filetypes = filetypes)\n",
    "\n",
    "#Korus, authentic\n",
    "dirin = os.path.join(dbtop,'korus_pristine/')\n",
    "dirout = f'./simg_saves/{model_name}/{overlap}/korus_pristine/'\n",
    "filetypes = ['*.TIF']\n",
    "save_simgraphs_by_directory(dirin, dirout,\n",
    "                            fweights, patch_size, overlap,\n",
    "                            filetypes = filetypes)\n",
    "\n",
    "    \n"
   ]
  },
  {
   "cell_type": "code",
   "execution_count": 5,
   "metadata": {},
   "outputs": [
    {
     "name": "stderr",
     "output_type": "stream",
     "text": [
      "100%|██████████| 180/180 [02:27<00:00,  1.22it/s]\n",
      "100%|██████████| 100/100 [22:39<00:00, 13.60s/it]\n",
      "100%|██████████| 220/220 [19:40<00:00,  5.36s/it]\n"
     ]
    }
   ],
   "source": [
    "dbtop = './tampering-databases/' #top level of tampering databases\n",
    "\n",
    "#FORGERY LOCALIZATION\n",
    "model_name = 'cam_128'\n",
    "fweights = f'./models/{model_name}/-30' #path to model CNN weights\n",
    "patch_size = 128 #patch size, must match associated weights file\n",
    "overlap = 96 #patch sampling overlap (75%)\n",
    "\n",
    "#Columbia, spliced\n",
    "dirin = os.path.join(dbtop,'4cam_splc/')\n",
    "dirout = f'./simg_saves/{model_name}/{overlap}/4cam_splc/'\n",
    "filetypes = ['*.tif']\n",
    "save_simgraphs_by_directory(dirin, dirout,\n",
    "                            fweights, patch_size, overlap,\n",
    "                            filetypes = filetypes)\n",
    "\n",
    "#Carvalho, spliced\n",
    "dirin = os.path.join(dbtop,'carvalho_tampered/')\n",
    "dirout = f'./simg_saves/{model_name}/{overlap}/carvalho_tampered/'\n",
    "filetypes = ['*.TIF']\n",
    "save_simgraphs_by_directory(dirin, dirout,\n",
    "                            fweights, patch_size, overlap,\n",
    "                            filetypes = filetypes)\n",
    "\n",
    "#Korus, spliced\n",
    "dirin = os.path.join(dbtop,'korus_tampered/')\n",
    "dirout = f'./simg_saves/{model_name}/{overlap}/korus_tampered/'\n",
    "filetypes = ['*.TIF']\n",
    "save_simgraphs_by_directory(dirin, dirout,\n",
    "                            fweights, patch_size, overlap,\n",
    "                            filetypes = filetypes)\n"
   ]
  }
 ],
 "metadata": {
  "kernelspec": {
   "display_name": "Python 3",
   "language": "python",
   "name": "python3"
  },
  "language_info": {
   "codemirror_mode": {
    "name": "ipython",
    "version": 3
   },
   "file_extension": ".py",
   "mimetype": "text/x-python",
   "name": "python",
   "nbconvert_exporter": "python",
   "pygments_lexer": "ipython3",
   "version": "3.7.7"
  }
 },
 "nbformat": 4,
 "nbformat_minor": 4
}
