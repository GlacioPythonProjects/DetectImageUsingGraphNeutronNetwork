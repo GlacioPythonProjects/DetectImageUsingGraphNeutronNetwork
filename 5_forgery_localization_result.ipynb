{
 "cells": [
  {
   "cell_type": "code",
   "execution_count": 1,
   "metadata": {},
   "outputs": [],
   "source": [
    "import src.spectral_utils as su\n",
    "import src.graph_utils as gu\n",
    "from src import db_helpers\n",
    "from src.simgraph import SimGraph, from_file\n",
    "from src import localization\n",
    "\n",
    "import numpy as np\n",
    "import matplotlib.pyplot as plt\n",
    "import os\n",
    "from glob import glob\n",
    "from sklearn.cluster import SpectralClustering\n",
    "from tqdm import tqdm"
   ]
  },
  {
   "cell_type": "code",
   "execution_count": 2,
   "metadata": {},
   "outputs": [],
   "source": [
    "def dbScorer_from_simgraph_masks(dir_simgraph,dir_mask,mask_name_parser,mask_loader,pixel_predictor,info_dict):\n",
    "    glist = db_helpers.dir_to_graphlist(dir_simgraph)\n",
    "    outlist = []\n",
    "    for gg in tqdm(glist):\n",
    "        sg = gg[1]\n",
    "        f_im, f_mask = mask_name_parser(gg)\n",
    "        M = mask_loader(dir_mask+f_mask)\n",
    "        pixpred = pixel_predictor(sg,M.shape)\n",
    "        outlist.append((pixpred,M))\n",
    "    scorer = localization.dbScorer(outlist,info_dict)\n",
    "    return scorer"
   ]
  },
  {
   "cell_type": "code",
   "execution_count": 3,
   "metadata": {},
   "outputs": [],
   "source": [
    "def pixpred_spectral_cluster(sg, mask_shape, assign_labels='discretize',laplacian_type = None,\n",
    "                             smoothing='Gaussian',smoothing_window=32,normalization=True):\n",
    "    \n",
    "    mat = (sg.mat.transpose()+sg.mat)*0.5\n",
    "    L = su.laplacian(mat,laplacian_type=laplacian_type,degree_axis=1)\n",
    "    prediction = su.spectral_cluster(L)\n",
    "    pixpred = localization.pixel_pred_from_patch_pred(prediction,sg.inds,sg.patch_size,\n",
    "                                                    mask_shape,\n",
    "                                                    smoothing=smoothing,\n",
    "                                                    smoothing_window=smoothing_window,\n",
    "                                                    normalization=normalization)\n",
    "    return pixpred\n",
    "\n",
    "def pixpred_fg_modularity(sg, mask_shape, threshold, cluster_weighted=True, k=2,\n",
    "                          smoothing='Gaussian',smoothing_window=32,normalization=True):\n",
    "    \n",
    "    g = gu.adj_to_graph(graph_utils.sym_mat(sg.mat),threshold=threshold)\n",
    "    com,_,_ = gu.cluster_fastgreedy(g,weighted=cluster_weighted,n=k)\n",
    "    prediction = np.array(com.membership)>0\n",
    "\n",
    "    pixpred = localization.pixel_pred_from_patch_pred(prediction,sg.inds,sg.patch_size,\n",
    "                                                    mask_shape,\n",
    "                                                    smoothing=smoothing,\n",
    "                                                    smoothing_window=smoothing_window,\n",
    "                                                    normalization=normalization)\n",
    "    return pixpred\n",
    "\n",
    "def pixpred_spectral_cluster_sklearn(sg, mask_shape, assign_labels='discretize',\n",
    "                                     smoothing='Gaussian',smoothing_window=32,normalization=True):\n",
    "    \n",
    "    sc = SpectralClustering(2, affinity='precomputed', n_init=100, assign_labels=assign_labels)\n",
    "    sc.fit((sg.mat.transpose()+sg.mat)*0.5)\n",
    "    prediction = sc.labels_\n",
    "    pixpred = localization.pixel_pred_from_patch_pred(prediction,sg.inds,sg.patch_size,\n",
    "                                                    mask_shape,\n",
    "                                                    smoothing=smoothing,\n",
    "                                                    smoothing_window=smoothing_window,\n",
    "                                                    normalization=normalization)\n",
    "    return pixpred"
   ]
  },
  {
   "cell_type": "code",
   "execution_count": 4,
   "metadata": {},
   "outputs": [],
   "source": [
    "def disp_score_report(scorer):\n",
    "    mcc_im = scorer.score_best_thresh_per_image('mcc')[0]\n",
    "    f1_im = scorer.score_best_thresh_per_image('f1')[0]\n",
    "    mcc_db = scorer.score_best_thresh_for_db_imavg('mcc')[0]\n",
    "    f1_db = scorer.score_best_thresh_for_db_imavg('f1')[0]\n",
    "    auc = scorer.score_auc_pix_total()[0]\n",
    "\n",
    "    str1 = '{}\\n'.format(str(scorer.info))\n",
    "    str2 = 'mcc_im:{}, f1_im:{}\\n'.format(mcc_im,f1_im)\n",
    "    str3 = 'mcc_db:{}, f1_db:{}\\n'.format(mcc_db,f1_db)\n",
    "    str4 = 'auc:{},\\n'.format(auc)\n",
    " \n",
    "    print(str1)\n",
    "    print(str2)\n",
    "    print(str3)\n",
    "    print(str4)"
   ]
  },
  {
   "cell_type": "code",
   "execution_count": 5,
   "metadata": {},
   "outputs": [
    {
     "name": "stderr",
     "output_type": "stream",
     "text": [
      "100%|██████████| 100/100 [12:14<00:00,  7.34s/it]\n",
      "Scoring DB: 100%|██████████| 100/100 [00:37<00:00,  2.68it/s]\n",
      "Scoring DB:   0%|          | 0/100 [00:00<?, ?it/s]/home/owen/forensic-graph/src/localization.py:474: RuntimeWarning: invalid value encountered in long_scalars\n",
      "  precision = tp/(tp+fp)\n",
      "Scoring DB: 100%|██████████| 100/100 [00:25<00:00,  3.96it/s]\n",
      "Scoring DB: 100%|██████████| 21/21 [01:10<00:00,  3.37s/it]\n",
      "Scoring DB: 100%|██████████| 21/21 [00:48<00:00,  2.30s/it]\n",
      "100%|██████████| 100/100 [00:02<00:00, 35.49it/s]\n",
      "Calculating ROC: 100%|██████████| 101/101 [00:34<00:00,  2.93it/s]"
     ]
    },
    {
     "name": "stdout",
     "output_type": "stream",
     "text": [
      "{'db': 'Carvalho'}\n",
      "\n",
      "mcc_im:0.8045099464920409, f1_im:0.8260877147059797\n",
      "\n",
      "mcc_db:0.7460828558229096, f1_db:0.7674190849078905\n",
      "\n",
      "auc:0.8912492829842968,\n",
      "\n"
     ]
    },
    {
     "name": "stderr",
     "output_type": "stream",
     "text": [
      "\n"
     ]
    }
   ],
   "source": [
    "#CARVALHO\n",
    "f_sg_carvalho = './simg_saves/cam_128/96/carvalho_tampered/'\n",
    "f_mask_carvalho = 'tampering-databases/carvalho_masks/'\n",
    "\n",
    "pixel_predictor = lambda sg, mask_shape: pixpred_spectral_cluster(sg,mask_shape)\n",
    "mask_name_parser = lambda gg: db_helpers.simg_to_carvalho_names(gg[0])\n",
    "mask_loader = lambda mask_path: localization.load_carvalho_mask(mask_path)\n",
    "info_dict = {}\n",
    "info_dict['db']='Carvalho'\n",
    "scorer = dbScorer_from_simgraph_masks(f_sg_carvalho,f_mask_carvalho,mask_name_parser,mask_loader,pixel_predictor,info_dict)\n",
    "\n",
    "#these values should match the \"Spectral Clustering\" row, \"Carvalho\" column in tables III-VI \n",
    "disp_score_report(scorer)"
   ]
  }
 ],
 "metadata": {
  "kernelspec": {
   "display_name": "Python 3",
   "language": "python",
   "name": "python3"
  },
  "language_info": {
   "codemirror_mode": {
    "name": "ipython",
    "version": 3
   },
   "file_extension": ".py",
   "mimetype": "text/x-python",
   "name": "python",
   "nbconvert_exporter": "python",
   "pygments_lexer": "ipython3",
   "version": "3.7.7"
  }
 },
 "nbformat": 4,
 "nbformat_minor": 4
}
