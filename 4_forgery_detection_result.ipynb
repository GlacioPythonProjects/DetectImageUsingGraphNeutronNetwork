{
 "cells": [
  {
   "cell_type": "code",
   "execution_count": 1,
   "metadata": {},
   "outputs": [],
   "source": [
    "import src.spectral_utils as su\n",
    "import src.graph_utils as gu\n",
    "from src.DetectionResult import DetectionResult\n",
    "from src.simgraph import SimGraph, from_file\n",
    "\n",
    "import numpy as np\n",
    "import matplotlib.pyplot as plt\n",
    "import os\n",
    "from glob import glob\n",
    "\n",
    "#function to extract the forensic similarity matrix from a .simg file\n",
    "def simg2mat(ff):\n",
    "    mat = from_file(ff).mat\n",
    "    return mat\n",
    "\n",
    "#aggregate sim matrices by directroy\n",
    "#glist (Graph List) is a list of tuples [(file_path, similarity_matrix),...]\n",
    "def dir2glist(fdir,ftype='*.simg'):\n",
    "    flist = glob(fdir+ftype)\n",
    "    glist = [(os.path.basename(ff),simg2mat(ff)) for ff in flist]\n",
    "    return glist"
   ]
  },
  {
   "cell_type": "code",
   "execution_count": 2,
   "metadata": {},
   "outputs": [],
   "source": [
    "def spec_gap_detection_result(glist_auth, glist_splc,\n",
    "                              laplacian_type = None,\n",
    "                              notes='', test_name=''):\n",
    "    #%% Calculate Gap\n",
    "    aL = [su.laplacian(g[1],laplacian_type=laplacian_type) for g in glist_auth]\n",
    "    sL = [su.laplacian(g[1],laplacian_type=laplacian_type) for g in glist_splc]\n",
    "    aG = np.array([su.eigap01(L) for L in aL])\n",
    "    sG = np.array([su.eigap01(L) for L in sL])\n",
    "\n",
    "    param_dict = {'type':'Spectral Gap','Normalization':laplacian_type,\n",
    "                  'notes':notes,'test':test_name}\n",
    "\n",
    "    #-1 is important since small gap indicates more likely to be tampered\n",
    "    gap_dr = DetectionResult(-1*aG,-1*sG, result_type='specgap', label='Spectral Gap', parameters=param_dict)\n",
    "    \n",
    "    return gap_dr\n",
    "\n",
    "def mod_opt_detection_result(glist_auth, glist_splc,\n",
    "                             mod_thresh = 0.0, mod_weighted = True,\n",
    "                             notes='', test_name=''):\n",
    "    #%%fast greedy\n",
    "    list_smod = gu.glist_to_fastgreedy_modularity(glist_splc,threshold=mod_thresh,weighted=mod_weighted)\n",
    "    list_amod = gu.glist_to_fastgreedy_modularity(glist_auth,threshold=mod_thresh,weighted=mod_weighted)\n",
    "    aMod = np.array(list_amod)\n",
    "    sMod = np.array(list_smod)\n",
    "\n",
    "    param_dict = {'type':'Fast Greedy Modularity Optimization',\n",
    "                  'Threshold':mod_thresh, 'Weighted':mod_weighted,\n",
    "                  'notes':notes,'test':test_name}\n",
    "\n",
    "    mod_dr = DetectionResult(aMod,sMod,result_type='modopt',label='Modularity Optimization',parameters=param_dict)\n",
    "    \n",
    "    return mod_dr\n",
    "\n",
    "def min_detection_result(glist_auth, glist_splc,\n",
    "                         notes='', test_name=''):\n",
    "    #MINIMUM\n",
    "    aMin = [np.percentile(g[1].ravel(),0) for g in glist_auth]\n",
    "    sMin = [np.percentile(g[1].ravel(),0) for g in glist_splc]\n",
    "    param_dict = {'type':'Minimum Similarity',\n",
    "                  'notes':notes,'test':test_name}\n",
    "\n",
    "    min_dr = DetectionResult(-1*np.array(aMin),-1*np.array(sMin),result_type='min',label='Min Similarity',parameters=param_dict)\n",
    "    return min_dr\n",
    "    \n",
    "def mean_detection_result(glist_auth, glist_splc,\n",
    "                          notes='', test_name=''):\n",
    "    #MEAN\n",
    "    aMean = [np.mean(g[1].ravel()) for g in glist_auth]\n",
    "    sMean = [np.mean(g[1].ravel()) for g in glist_splc]\n",
    "\n",
    "    param_dict = {'type':'Mean Similarity',\n",
    "                  'notes':notes,'test':test_name}\n",
    "\n",
    "    mean_dr = DetectionResult(-1*np.array(aMean),-1*np.array(sMean),result_type='mean',label='Mean Similarity',parameters=param_dict)\n",
    "    \n",
    "    return mean_dr"
   ]
  },
  {
   "cell_type": "code",
   "execution_count": 3,
   "metadata": {},
   "outputs": [],
   "source": [
    "#%%\n",
    "dir_top = './simg_saves/cam_256/128/'\n",
    "\n",
    "#dir_splc = os.path.join(dir_top,'4cam_splc/')\n",
    "#dir_auth = os.path.join(dir_top,'4cam_auth/')\n",
    "\n",
    "dir_splc = os.path.join(dir_top,'carvalho_tampered/')\n",
    "dir_auth = os.path.join(dir_top,'carvalho_pristine/')\n",
    "\n",
    "#dir_splc = os.path.join(dir_top,'korus_tampered/')\n",
    "#dir_auth = os.path.join(dir_top,'korus_pristine/')\n",
    "    \n",
    "glist_auth = dir2glist(dir_auth)\n",
    "glist_splc = dir2glist(dir_splc)"
   ]
  },
  {
   "cell_type": "code",
   "execution_count": 4,
   "metadata": {},
   "outputs": [
    {
     "name": "stdout",
     "output_type": "stream",
     "text": [
      "Computing Spectral Gap detection statistics\n",
      "Computing Modularity Optimization detection statistics\n",
      "Computing Minimum Similarity detection statistics\n",
      "Computing Mean Similarity detection statistics\n"
     ]
    }
   ],
   "source": [
    "print('Computing Spectral Gap detection statistics')\n",
    "gap_dr = spec_gap_detection_result(glist_auth, glist_splc)\n",
    "\n",
    "print('Computing Modularity Optimization detection statistics')\n",
    "mod_dr = mod_opt_detection_result(glist_auth, glist_splc)\n",
    "\n",
    "print('Computing Minimum Similarity detection statistics')\n",
    "min_dr = min_detection_result(glist_auth, glist_splc)\n",
    "\n",
    "print('Computing Mean Similarity detection statistics')\n",
    "mean_dr = mean_detection_result(glist_auth, glist_splc)"
   ]
  },
  {
   "cell_type": "code",
   "execution_count": 5,
   "metadata": {},
   "outputs": [
    {
     "name": "stdout",
     "output_type": "stream",
     "text": [
      "mAP, Spectral Gap: 0.9694533084052369\n",
      "mAP, Modularity Opt: 0.9454071034797727\n",
      "mAP, Min Sim: 0.9631442966835694\n",
      "mAP, Mean Sim: 0.9452029640978102\n"
     ]
    }
   ],
   "source": [
    "print(f'mAP, Spectral Gap: {gap_dr.calc_map()}')\n",
    "print(f'mAP, Modularity Opt: {mod_dr.calc_map()}')\n",
    "print(f'mAP, Min Sim: {min_dr.calc_map()}')\n",
    "print(f'mAP, Mean Sim: {mean_dr.calc_map()}')"
   ]
  },
  {
   "cell_type": "code",
   "execution_count": 6,
   "metadata": {},
   "outputs": [
    {
     "name": "stdout",
     "output_type": "stream",
     "text": [
      "Pd@Pfa=0.01, Spectral Gap: 0.8\n",
      "Pd@Pfa=0.01, Modularity Opt: 0.38\n",
      "Pd@Pfa=0.01, Min Sim: 0.75\n",
      "Pd@Pfa=0.01, Mean Sim: 0.51\n"
     ]
    }
   ],
   "source": [
    "print(f'Pd@Pfa=0.01, Spectral Gap: {gap_dr.calc_pd_at_pfa(0.01)}')\n",
    "print(f'Pd@Pfa=0.01, Modularity Opt: {mod_dr.calc_pd_at_pfa(0.01)}')\n",
    "print(f'Pd@Pfa=0.01, Min Sim: {min_dr.calc_pd_at_pfa(0.01)}')\n",
    "print(f'Pd@Pfa=0.01, Mean Sim: {mean_dr.calc_pd_at_pfa(0.01)}')"
   ]
  },
  {
   "cell_type": "code",
   "execution_count": 7,
   "metadata": {},
   "outputs": [
    {
     "data": {
      "image/png": "[encoded data removed]",
      "text/plain": [
       "<Figure size 432x288 with 1 Axes>"
      ]
     },
     "metadata": {
      "needs_background": "light"
     },
     "output_type": "display_data"
    }
   ],
   "source": [
    "f,ax = plt.subplots(1)\n",
    "_,h = gap_dr.plot_roc(ax=ax)\n",
    "_,h = mod_dr.plot_roc(ax=ax)\n",
    "h[0].set_linestyle('--')\n",
    "_,h = min_dr.plot_roc(ax=ax)\n",
    "h[0].set_linestyle(':')\n",
    "_,h = mean_dr.plot_roc(ax=ax)\n",
    "h[0].set_linestyle('-.')\n",
    "plt.legend()\n",
    "plt.xlabel('P_fa')\n",
    "plt.ylabel('P_d')\n",
    "plt.show()"
   ]
  },
  {
   "cell_type": "code",
   "execution_count": null,
   "metadata": {},
   "outputs": [],
   "source": []
  }
 ],
 "metadata": {
  "kernelspec": {
   "display_name": "Python 3",
   "language": "python",
   "name": "python3"
  },
  "language_info": {
   "codemirror_mode": {
    "name": "ipython",
    "version": 3
   },
   "file_extension": ".py",
   "mimetype": "text/x-python",
   "name": "python",
   "nbconvert_exporter": "python",
   "pygments_lexer": "ipython3",
   "version": "3.7.7"
  }
 },
 "nbformat": 4,
 "nbformat_minor": 4
}
